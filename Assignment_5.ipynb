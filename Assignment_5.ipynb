{
 "cells": [
  {
   "cell_type": "code",
   "execution_count": 1,
   "id": "3d077c27-83fd-420a-a516-64719edd4711",
   "metadata": {},
   "outputs": [],
   "source": [
    "import string\n",
    "import pandas as pd\n",
    "import matplotlib.pyplot as plt"
   ]
  },
  {
   "cell_type": "code",
   "execution_count": 2,
   "id": "f43c0377-e29b-4feb-b17f-38c519dec098",
   "metadata": {},
   "outputs": [
    {
     "name": "stdout",
     "output_type": "stream",
     "text": [
      "['a', 'b', 'c', 'd', 'e', 'f', 'g', 'h', 'i', 'j', 'k', 'l', 'm', 'n', 'o', 'p', 'q', 'r', 's', 't', 'u', 'v', 'w', 'x', 'y', 'z']\n"
     ]
    }
   ],
   "source": [
    "alpha_list = list(string.ascii_lowercase)    # 초기 리스트\n",
    "print(alpha_list)"
   ]
  },
  {
   "cell_type": "code",
   "execution_count": 3,
   "id": "ce42ca7b-8376-4820-8d76-65efab174edf",
   "metadata": {},
   "outputs": [],
   "source": [
    "text = \"I am honored to be with you today at your commencement from one of the finest universities in the world. I never graduated from college. Truth be told, this is the closest I’ve ever gotten to a college graduation. Today I want to tell you three stories from my life. That’s it. No big deal. Just three stories. The first story is about connecting the dots. I dropped out of Reed College after the first 6 months, but then stayed around as a drop-in for another 18 months or so before I really quit. So why did I drop out? It started before I was born. My biological mother was a young, unwed college graduate student, and she decided to put me up for adoption. She felt very strongly that I should be adopted by college graduates, so everything was all set for me to be adopted at birth by a lawyer and his wife. Except that when I popped out they decided at the last minute that they really wanted a girl. So my parents, who were on a waiting list, got a call in the middle of the night asking: “We have an unexpected baby boy; do you want him?” They said: “Of course.” My biological mother later found out that my mother had never graduated from college and that my father had never graduated from high school. She refused to sign the final adoption papers. She only relented a few months later when my parents promised that I would someday go to college. And 17 years later I did go to college. But I naively chose a college that was almost as expensive as Stanford, and all of my working-class parents’ savings were being spent on my college tuition. After six months, I couldn’t see the value in it. I had no idea what I wanted to do with my life and no idea how college was going to help me figure it out. And here I was spending all of the money my parents had saved their entire life. So I decided to drop out and trust that it would all work out OK. It was pretty scary at the time, but looking back it was one of the best decisions I ever made. The minute I dropped out I could stop taking the required classes that didn’t interest me, and begin dropping in on the ones that looked interesting.\""
   ]
  },
  {
   "cell_type": "code",
   "execution_count": 4,
   "id": "a04ed06d-e03c-40de-8f3f-3d155843ca02",
   "metadata": {},
   "outputs": [],
   "source": [
    "def get_from_list(t):#t를 입력받을 함수 생성\n",
    "    count_list = [] #알파벳 사용 횟수를 입력할 빈 리스트 생성\n",
    "    for i in alpha_list: #알파벳 리스트를 활용한 반복문\n",
    "        count_alpha = t.count(i) #t안에 각 알파벳이 얼마나 들어있는지 판단\n",
    "        count_list.append(count_alpha) #빈 리스트에 각 알파벳 사용 횟수 추가\n",
    "    return count_list #count_list에 각 알파벳의 갯수 돌려주며 함수 종료"
   ]
  },
  {
   "cell_type": "code",
   "execution_count": 5,
   "id": "2e3380f4-7e1a-4d5e-9682-e373219efc74",
   "metadata": {},
   "outputs": [],
   "source": [
    "count_list = get_from_list(text) #count_list라는 변수에 함수결과 리스트 저장"
   ]
  },
  {
   "cell_type": "code",
   "execution_count": 6,
   "id": "2bad08e0-24f8-4ddb-a1b1-2de5f6715a8f",
   "metadata": {},
   "outputs": [],
   "source": [
    "data = {'alphabet':alpha_list, 'count':count_list} #1열을 알파벳으로 2열을 횟수로 갖는 딕셔너리 생성\n",
    "df = pd.DataFrame(data) #딕셔너리를 데이터프레임으로 전환\n",
    "df.to_csv(\"alphabet_list.csv\") #데이터프레임을 현재디렉토리에 \"alphabet_list.csv\"라는 이름으로 저장"
   ]
  },
  {
   "cell_type": "code",
   "execution_count": 7,
   "id": "e669cd66-ea39-425a-ad0d-b022aa03ea8c",
   "metadata": {},
   "outputs": [],
   "source": [
    "graph_df = pd.read_csv(\".//alphabet_list.csv\") # csv파일 현재 디렉토리에서 불러오기\n",
    "del graph_df['Unnamed: 0'] # csv 파일을 불러왔을 때 'Unnamed: 0'이라는 index 번호 열이 생성되어 삭제해줌\n",
    "#graph_df # 잘 삭제되었는지 확인"
   ]
  },
  {
   "cell_type": "code",
   "execution_count": 14,
   "id": "b64ddc70-2bd7-4459-9c33-e0d34e98666c",
   "metadata": {},
   "outputs": [
    {
     "data": {
      "image/png": "[encoded data removed]",
      "text/plain": [
       "<Figure size 720x432 with 1 Axes>"
      ]
     },
     "metadata": {
      "needs_background": "light"
     },
     "output_type": "display_data"
    }
   ],
   "source": [
    "gragh_color = ['#9b5de5', '#f15bb5', '#fee440','#00bbf9', '#00f5d4'] #출처 : https://coolors.co/palettes/trending\n",
    "graph_df = graph_df.sort_values(by=['count'], ascending=False) #내림차순정리\n",
    "graph_df.plot.bar(x='alphabet', y='count', color=gragh_color, rot = 0, width=0.8, fontsize = 12, figsize=(10,6)) #막대 색, 글자 방향, 크기 등 지정\n",
    "plt.title(\"There are how many alphabets?\", fontsize = 25) #막대 그래프의 제목\n",
    "plt.xlabel(\"alphabet\", fontsize = 15) #x축 이름\n",
    "plt.ylabel(\"count\", fontsize = 15) #y축 이름\n",
    "plt.grid(True, axis='y', color =\"r\", linestyle='--', alpha=0.5) #y축 격자 표시\n",
    "plt.savefig('There are how many alphabets.png') #저장\n",
    "plt.show() #보기"
   ]
  },
  {
   "cell_type": "code",
   "execution_count": null,
   "id": "f52ba7c3-2cca-406b-95b0-3838279ecc51",
   "metadata": {},
   "outputs": [],
   "source": []
  },
  {
   "cell_type": "code",
   "execution_count": null,
   "id": "49ecafed-22a7-4d46-bf38-6904b317ecb2",
   "metadata": {},
   "outputs": [],
   "source": []
  }
 ],
 "metadata": {
  "kernelspec": {
   "display_name": "Python 3",
   "language": "python",
   "name": "python3"
  },
  "language_info": {
   "codemirror_mode": {
    "name": "ipython",
    "version": 3
   },
   "file_extension": ".py",
   "mimetype": "text/x-python",
   "name": "python",
   "nbconvert_exporter": "python",
   "pygments_lexer": "ipython3",
   "version": "3.8.8"
  }
 },
 "nbformat": 4,
 "nbformat_minor": 5
}
