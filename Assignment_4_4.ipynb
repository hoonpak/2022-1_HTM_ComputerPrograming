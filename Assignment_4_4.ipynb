{
 "cells": [
  {
   "cell_type": "code",
   "execution_count": 15,
   "id": "08dd730e-de23-4796-8ae1-673adfee8f18",
   "metadata": {},
   "outputs": [],
   "source": [
    "def addition(f_num,s_num):\n",
    "    result = f_num + s_num\n",
    "    return result"
   ]
  },
  {
   "cell_type": "code",
   "execution_count": 16,
   "id": "8a310aad-f1e5-41cb-8ddc-94f04fa7fc73",
   "metadata": {},
   "outputs": [],
   "source": [
    "def subtraction(f_num,s_num):\n",
    "    result = f_num - s_num\n",
    "    return result"
   ]
  },
  {
   "cell_type": "code",
   "execution_count": 17,
   "id": "1027a7a9-8810-491b-adb6-edc05b0ca10c",
   "metadata": {},
   "outputs": [],
   "source": [
    "def multiplication(f_num,s_num):\n",
    "    result = f_num * s_num\n",
    "    return result"
   ]
  },
  {
   "cell_type": "code",
   "execution_count": 18,
   "id": "88b6ec7d-22ab-41c4-854c-82e5f067f534",
   "metadata": {},
   "outputs": [],
   "source": [
    "def division(f_num,s_num):\n",
    "    result = f_num / s_num\n",
    "    return result"
   ]
  },
  {
   "cell_type": "code",
   "execution_count": 19,
   "id": "7a9df243-5cc8-4656-81db-0a345f35a352",
   "metadata": {},
   "outputs": [
    {
     "name": "stdin",
     "output_type": "stream",
     "text": [
      "어떤 연산을 수행할까요?(더하기, 빼기, 곱하기, 나누기 중 택1)> 더하기\n",
      "첫 번째 수를 입력하세요.> 1234\n",
      "두 번째 수를 입력하세요.> 23145\n"
     ]
    },
    {
     "name": "stdout",
     "output_type": "stream",
     "text": [
      "입력값 = 1234,23145\n",
      "연산 종류: 더하기\n",
      "연산 결과:24379.00\n"
     ]
    }
   ],
   "source": [
    "operation = input(\"어떤 연산을 수행할까요?(더하기, 빼기, 곱하기, 나누기 중 택1)>\")\n",
    "f_num = int(input(\"첫 번째 수를 입력하세요.>\")) \n",
    "s_num = int(input(\"두 번째 수를 입력하세요.>\"))\n",
    "\n",
    "#if문을 활용해서 받은 사칙연산에 맞는 계산하기\n",
    "if operation == \"더하기\":\n",
    "    result = addition(f_num,s_num)\n",
    "elif operation == \"빼기\":\n",
    "    result = subtraction(f_num,s_num)\n",
    "elif operation == \"곱하기\":\n",
    "    result = multiplication(f_num,s_num)\n",
    "elif operation == \"나누기\":\n",
    "    result = division(f_num,s_num)\n",
    "else: # 사칙연산을 잘못 입력하였을 경우\n",
    "    print(\"잘못 입력하셨습니다.\")\n",
    "    result = 0\n",
    "    \n",
    "#사직연산 결과 출력하기\n",
    "print(f\"입력값 = {f_num},{s_num}\")\n",
    "print(\"연산 종류:\",operation)\n",
    "print(f\"연산 결과:{result:.2f}\")#나누기의 경우 소수점이 많이 나올 수 있음으로 소수점 2번째짜리까지 출력"
   ]
  },
  {
   "cell_type": "code",
   "execution_count": null,
   "id": "75e6896e-ee94-4931-b416-a6ea40e4a2b3",
   "metadata": {},
   "outputs": [],
   "source": []
  }
 ],
 "metadata": {
  "kernelspec": {
   "display_name": "Python 3",
   "language": "python",
   "name": "python3"
  },
  "language_info": {
   "codemirror_mode": {
    "name": "ipython",
    "version": 3
   },
   "file_extension": ".py",
   "mimetype": "text/x-python",
   "name": "python",
   "nbconvert_exporter": "python",
   "pygments_lexer": "ipython3",
   "version": "3.8.8"
  }
 },
 "nbformat": 4,
 "nbformat_minor": 5
}
