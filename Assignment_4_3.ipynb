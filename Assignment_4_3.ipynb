{
 "cells": [
  {
   "cell_type": "code",
   "execution_count": 14,
   "id": "4919efb3-64e4-4e85-b9ce-abaff8bf3be9",
   "metadata": {},
   "outputs": [],
   "source": [
    "heroes = ['Black Widow', 'Loki', 'Iron man', 'Wanda Maximoff', 'Black Panther', 'Doctor Strange', 'Winter Soldier', 'Thor']\n",
    "villains = ['Thanos', 'Red Skull', 'Loki', 'Winter Soldier', 'Ultron', 'Hela', 'Dormammu']"
   ]
  },
  {
   "cell_type": "code",
   "execution_count": 17,
   "id": "b86ccf09-dfba-44aa-b570-8eee759b2406",
   "metadata": {},
   "outputs": [],
   "source": [
    "for i in villains: #villains리스트안에 있는 것들 중\n",
    "    if i in heroes: #heroes리스트 값과 겹치는 것이 있다면\n",
    "        villains.remove(i) #villains리스트에서 빼줘라\n",
    "    new_villains = villains #new_villains에 새로운 villains값 할당"
   ]
  },
  {
   "cell_type": "code",
   "execution_count": 18,
   "id": "101fc340-4005-4e1c-a8ac-de577aa9991d",
   "metadata": {},
   "outputs": [
    {
     "data": {
      "text/plain": [
       "['Thanos', 'Red Skull', 'Ultron', 'Hela', 'Dormammu']"
      ]
     },
     "execution_count": 18,
     "metadata": {},
     "output_type": "execute_result"
    }
   ],
   "source": [
    "new_villains#확인"
   ]
  },
  {
   "cell_type": "code",
   "execution_count": null,
   "id": "a7a503db-7094-4c2b-8c0f-c892357c9db9",
   "metadata": {},
   "outputs": [],
   "source": []
  }
 ],
 "metadata": {
  "kernelspec": {
   "display_name": "Python 3",
   "language": "python",
   "name": "python3"
  },
  "language_info": {
   "codemirror_mode": {
    "name": "ipython",
    "version": 3
   },
   "file_extension": ".py",
   "mimetype": "text/x-python",
   "name": "python",
   "nbconvert_exporter": "python",
   "pygments_lexer": "ipython3",
   "version": "3.8.8"
  }
 },
 "nbformat": 4,
 "nbformat_minor": 5
}
