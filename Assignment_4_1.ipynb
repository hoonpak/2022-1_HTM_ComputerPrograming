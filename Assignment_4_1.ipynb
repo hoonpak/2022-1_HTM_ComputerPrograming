{
 "cells": [
  {
   "cell_type": "code",
   "execution_count": 1,
   "id": "1cc6bc4b-018e-44ab-a8c2-aa251ccbd280",
   "metadata": {},
   "outputs": [
    {
     "name": "stdout",
     "output_type": "stream",
     "text": [
      "['a', 'b', 'c', 'd', 'e', 'f', 'g', 'h', 'i', 'j', 'k', 'l', 'm', 'n', 'o', 'p', 'q', 'r', 's', 't', 'u', 'v', 'w', 'x', 'y', 'z']\n"
     ]
    }
   ],
   "source": [
    "import string\n",
    "alpha_list = list(string.ascii_lowercase)    # 초기 리스트\n",
    "print(alpha_list)"
   ]
  },
  {
   "cell_type": "code",
   "execution_count": 2,
   "id": "8597f4ed-4c95-4347-8b3e-61e28a4a0741",
   "metadata": {},
   "outputs": [],
   "source": [
    "text = \"I am honored to be with you today at your commencement from one of the finest universities in the world. I never graduated from college. Truth be told, this is the closest I’ve ever gotten to a college graduation. Today I want to tell you three stories from my life. That’s it. No big deal. Just three stories. The first story is about connecting the dots. I dropped out of Reed College after the first 6 months, but then stayed around as a drop-in for another 18 months or so before I really quit. So why did I drop out? It started before I was born. My biological mother was a young, unwed college graduate student, and she decided to put me up for adoption. She felt very strongly that I should be adopted by college graduates, so everything was all set for me to be adopted at birth by a lawyer and his wife. Except that when I popped out they decided at the last minute that they really wanted a girl. So my parents, who were on a waiting list, got a call in the middle of the night asking: “We have an unexpected baby boy; do you want him?” They said: “Of course.” My biological mother later found out that my mother had never graduated from college and that my father had never graduated from high school. She refused to sign the final adoption papers. She only relented a few months later when my parents promised that I would someday go to college. And 17 years later I did go to college. But I naively chose a college that was almost as expensive as Stanford, and all of my working-class parents’ savings were being spent on my college tuition. After six months, I couldn’t see the value in it. I had no idea what I wanted to do with my life and no idea how college was going to help me figure it out. And here I was spending all of the money my parents had saved their entire life. So I decided to drop out and trust that it would all work out OK. It was pretty scary at the time, but looking back it was one of the best decisions I ever made. The minute I dropped out I could stop taking the required classes that didn’t interest me, and begin dropping in on the ones that looked interesting.\""
   ]
  },
  {
   "cell_type": "code",
   "execution_count": 3,
   "id": "2acc0673-515f-479d-aee8-3f44a2faaf9a",
   "metadata": {},
   "outputs": [],
   "source": [
    "def get_from_list(t):#t를 입력받을 함수 생성\n",
    "    count_list = [] #알파벳 사용 횟수를 입력할 빈 리스트 생성\n",
    "    for i in alpha_list: #알파벳 리스트를 활용한 반복문\n",
    "        count_alpha = t.count(i) #t안에 각 알파벳이 얼마나 들어있는지 판단\n",
    "        count_list.append(count_alpha) #빈 리스트에 각 알파벳 사용 횟수 추가\n",
    "        print(f\"알파벳 {i}는 모두 {count_alpha}번 사용되었습니다.\") #각 알파벳 사용 횟수 출력\n",
    "    Max_alpha = alpha_list[count_list.index(max(count_list))] #가장 많이 사용된 알파벳\n",
    "    Max_count = max(count_list) # 가장 많이 사용된 알파벳의 사용 횟수\n",
    "    print(f\"가장 많이 사용된 알파벳은 {Max_alpha} 이며 모두 {Max_count}번 사용되었습니다.\")#최종 출력"
   ]
  },
  {
   "cell_type": "code",
   "execution_count": 4,
   "id": "95ffecf3-bdb9-42df-8b09-d7b9d00b391e",
   "metadata": {},
   "outputs": [
    {
     "name": "stdout",
     "output_type": "stream",
     "text": [
      "알파벳 a는 모두 120번 사용되었습니다.\n",
      "알파벳 b는 모두 23번 사용되었습니다.\n",
      "알파벳 c는 모두 33번 사용되었습니다.\n",
      "알파벳 d는 모두 92번 사용되었습니다.\n",
      "알파벳 e는 모두 203번 사용되었습니다.\n",
      "알파벳 f는 모두 34번 사용되었습니다.\n",
      "알파벳 g는 모두 46번 사용되었습니다.\n",
      "알파벳 h는 모두 76번 사용되었습니다.\n",
      "알파벳 i는 모두 87번 사용되었습니다.\n",
      "알파벳 j는 모두 0번 사용되었습니다.\n",
      "알파벳 k는 모두 7번 사용되었습니다.\n",
      "알파벳 l는 모두 76번 사용되었습니다.\n",
      "알파벳 m는 모두 39번 사용되었습니다.\n",
      "알파벳 n는 모두 95번 사용되었습니다.\n",
      "알파벳 o는 모두 144번 사용되었습니다.\n",
      "알파벳 p는 모두 33번 사용되었습니다.\n",
      "알파벳 q는 모두 2번 사용되었습니다.\n",
      "알파벳 r는 모두 87번 사용되었습니다.\n",
      "알파벳 s는 모두 84번 사용되었습니다.\n",
      "알파벳 t는 모두 172번 사용되었습니다.\n",
      "알파벳 u는 모두 48번 사용되었습니다.\n",
      "알파벳 v는 모두 15번 사용되었습니다.\n",
      "알파벳 w는 모두 32번 사용되었습니다.\n",
      "알파벳 x는 모두 4번 사용되었습니다.\n",
      "알파벳 y는 모두 41번 사용되었습니다.\n",
      "알파벳 z는 모두 0번 사용되었습니다.\n",
      "가장 많이 사용된 알파벳은 e 이며 모두 203번 사용되었습니다.\n"
     ]
    }
   ],
   "source": [
    "get_from_list(text)#확인"
   ]
  },
  {
   "cell_type": "code",
   "execution_count": null,
   "id": "9e469574-8d3f-46c1-8fa0-35799a947679",
   "metadata": {},
   "outputs": [],
   "source": []
  }
 ],
 "metadata": {
  "kernelspec": {
   "display_name": "Python 3",
   "language": "python",
   "name": "python3"
  },
  "language_info": {
   "codemirror_mode": {
    "name": "ipython",
    "version": 3
   },
   "file_extension": ".py",
   "mimetype": "text/x-python",
   "name": "python",
   "nbconvert_exporter": "python",
   "pygments_lexer": "ipython3",
   "version": "3.8.8"
  }
 },
 "nbformat": 4,
 "nbformat_minor": 5
}
