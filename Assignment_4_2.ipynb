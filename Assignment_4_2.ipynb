{
 "cells": [
  {
   "cell_type": "code",
   "execution_count": 33,
   "id": "b03038d6-ad1f-435b-975e-8406a0dbd95b",
   "metadata": {},
   "outputs": [
    {
     "name": "stdout",
     "output_type": "stream",
     "text": [
      "{'a': 0, 'b': 0, 'c': 0, 'd': 0, 'e': 0, 'f': 0, 'g': 0, 'h': 0, 'i': 0, 'j': 0, 'k': 0, 'l': 0, 'm': 0, 'n': 0, 'o': 0, 'p': 0, 'q': 0, 'r': 0, 's': 0, 't': 0, 'u': 0, 'v': 0, 'w': 0, 'x': 0, 'y': 0, 'z': 0}\n"
     ]
    }
   ],
   "source": [
    "import string\n",
    "alpha_dict = dict.fromkeys(string.ascii_lowercase, 0)     # 초기 딕셔너리 (key는 알파벳, value는 counting 초기화)\n",
    "print(alpha_dict)"
   ]
  },
  {
   "cell_type": "code",
   "execution_count": 34,
   "id": "d5d126f4-f748-4ed8-92c7-57059c59c5fa",
   "metadata": {},
   "outputs": [],
   "source": [
    "text = \"I am honored to be with you today at your commencement from one of the finest universities in the world. I never graduated from college. Truth be told, this is the closest I’ve ever gotten to a college graduation. Today I want to tell you three stories from my life. That’s it. No big deal. Just three stories. The first story is about connecting the dots. I dropped out of Reed College after the first 6 months, but then stayed around as a drop-in for another 18 months or so before I really quit. So why did I drop out? It started before I was born. My biological mother was a young, unwed college graduate student, and she decided to put me up for adoption. She felt very strongly that I should be adopted by college graduates, so everything was all set for me to be adopted at birth by a lawyer and his wife. Except that when I popped out they decided at the last minute that they really wanted a girl. So my parents, who were on a waiting list, got a call in the middle of the night asking: “We have an unexpected baby boy; do you want him?” They said: “Of course.” My biological mother later found out that my mother had never graduated from college and that my father had never graduated from high school. She refused to sign the final adoption papers. She only relented a few months later when my parents promised that I would someday go to college. And 17 years later I did go to college. But I naively chose a college that was almost as expensive as Stanford, and all of my working-class parents’ savings were being spent on my college tuition. After six months, I couldn’t see the value in it. I had no idea what I wanted to do with my life and no idea how college was going to help me figure it out. And here I was spending all of the money my parents had saved their entire life. So I decided to drop out and trust that it would all work out OK. It was pretty scary at the time, but looking back it was one of the best decisions I ever made. The minute I dropped out I could stop taking the required classes that didn’t interest me, and begin dropping in on the ones that looked interesting.\""
   ]
  },
  {
   "cell_type": "code",
   "execution_count": 35,
   "id": "8bd0e258-ec92-47f6-bfb8-6696c77e0744",
   "metadata": {},
   "outputs": [],
   "source": [
    "def get_from_dict(t):#t를 입력받을 함수 생성\n",
    "    for key in alpha_dict.keys():#key값인 알파벳을 활용한 반복문\n",
    "        alpha_dict[key]=t.count(key)#알파벳 사용 횟수를 세고 value값에 할당\n",
    "        print(f\"알파벳 {key}는 모두 {alpha_dict[key]}번 사용되었습니다.\")#알파벳 당 몇 번 사용되었는지 출력\n",
    "    key_list = list(alpha_dict.keys())#key, 알파벳 리스트 생성\n",
    "    value_list = list(alpha_dict.values())#value, 사용횟수 리스트 생성\n",
    "    Max_alpha = key_list[a.index(max(value_list))]#가장 많이 사용된 알파벳\n",
    "    Max_count = max(value_list)#가장 많이 사용된 알파벳 사용 횟수\n",
    "    print(f\"가장 많이 사용된 알파벳은 {Max_alpha} 이며 모두 {Max_count}번 사용되었습니다.\")#최종 출력"
   ]
  },
  {
   "cell_type": "code",
   "execution_count": 36,
   "id": "e62b6dc9-6761-4ec4-bc59-665d4ad52039",
   "metadata": {},
   "outputs": [
    {
     "name": "stdout",
     "output_type": "stream",
     "text": [
      "알파벳 a는 모두 120번 사용되었습니다.\n",
      "알파벳 b는 모두 23번 사용되었습니다.\n",
      "알파벳 c는 모두 33번 사용되었습니다.\n",
      "알파벳 d는 모두 92번 사용되었습니다.\n",
      "알파벳 e는 모두 203번 사용되었습니다.\n",
      "알파벳 f는 모두 34번 사용되었습니다.\n",
      "알파벳 g는 모두 46번 사용되었습니다.\n",
      "알파벳 h는 모두 76번 사용되었습니다.\n",
      "알파벳 i는 모두 87번 사용되었습니다.\n",
      "알파벳 j는 모두 0번 사용되었습니다.\n",
      "알파벳 k는 모두 7번 사용되었습니다.\n",
      "알파벳 l는 모두 76번 사용되었습니다.\n",
      "알파벳 m는 모두 39번 사용되었습니다.\n",
      "알파벳 n는 모두 95번 사용되었습니다.\n",
      "알파벳 o는 모두 144번 사용되었습니다.\n",
      "알파벳 p는 모두 33번 사용되었습니다.\n",
      "알파벳 q는 모두 2번 사용되었습니다.\n",
      "알파벳 r는 모두 87번 사용되었습니다.\n",
      "알파벳 s는 모두 84번 사용되었습니다.\n",
      "알파벳 t는 모두 172번 사용되었습니다.\n",
      "알파벳 u는 모두 48번 사용되었습니다.\n",
      "알파벳 v는 모두 15번 사용되었습니다.\n",
      "알파벳 w는 모두 32번 사용되었습니다.\n",
      "알파벳 x는 모두 4번 사용되었습니다.\n",
      "알파벳 y는 모두 41번 사용되었습니다.\n",
      "알파벳 z는 모두 0번 사용되었습니다.\n",
      "가장 많이 사용된 알파벳은 e 이며 모두 203번 사용되었습니다.\n"
     ]
    }
   ],
   "source": [
    "get_from_dict(text)#확인"
   ]
  },
  {
   "cell_type": "code",
   "execution_count": null,
   "id": "bf34cae0-2a41-4394-b7b2-508e9c29da84",
   "metadata": {},
   "outputs": [],
   "source": []
  }
 ],
 "metadata": {
  "kernelspec": {
   "display_name": "Python 3",
   "language": "python",
   "name": "python3"
  },
  "language_info": {
   "codemirror_mode": {
    "name": "ipython",
    "version": 3
   },
   "file_extension": ".py",
   "mimetype": "text/x-python",
   "name": "python",
   "nbconvert_exporter": "python",
   "pygments_lexer": "ipython3",
   "version": "3.8.8"
  }
 },
 "nbformat": 4,
 "nbformat_minor": 5
}
